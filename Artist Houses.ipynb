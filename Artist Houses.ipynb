{
 "cells": [
  {
   "cell_type": "markdown",
   "id": "475c7534",
   "metadata": {},
   "source": [
    "<h1 style='text-align:center; font-family:times'> Houses and Artists</h1>\n",
    "\n",
    "***\n",
    "\n",
    "<h2 style=\" font-family: times\">1.  The London House Where Van Gogh Used To Live : </h2>\n",
    "\n",
    "<img style=\"float: left;\"  src=\"https://assets.londonist.com/uploads/2019/07/i875/tp-vangogh-0_landscape.jpg\">   \n",
    "\n",
    "\n",
    "\n",
    " \n"
   ]
  },
  {
   "cell_type": "markdown",
   "id": "0a630873",
   "metadata": {},
   "source": [
    "<h2 style=\" font-family: times\">2.  Pablo Picasso’s French Riviera Mansion: </h2>  \n",
    "\n",
    "<img style=\"float: left;\"  src=\"https://static1.mansionglobal.com/production/media/article-images/145245274d2a86ba038d2d083fc351b1/large_Picasso-Mougins_present._Pagina_08_Afbeelding_0001.jpg\">     \n",
    "\n"
   ]
  },
  {
   "cell_type": "markdown",
   "id": "527e1d25",
   "metadata": {},
   "source": [
    "&nbsp;\n",
    "<h2 style=\" font-family: times\">3a.  The birthplace of Leonardo da Vinci, Anchiano, Tuscany: </h2>  \n",
    " \n",
    "<img style=\"float: left;\"  src=\"https://www.researchgate.net/profile/Andrei-Marinescu/publication/340436609/figure/fig2/AS:916155141214209@1595439815873/The-birthplace-of-Leonardo-da-Vinci-Anchiano-Tuscany-photo-by-Roland-Arhelger.ppm\">   \n",
    "\n"
   ]
  },
  {
   "cell_type": "markdown",
   "id": "98439859",
   "metadata": {},
   "source": [
    "&nbsp;\n",
    "<h2 style=\" font-family: times\">3b.  Chateau du Clos Lucé, final home of Leonardo Da Vinci, near Amboise in France: </h2>  \n",
    " \n",
    "<img style=\"float: left;\"  src=\"https://www.thoughtco.com/thmb/WXVj2LOs51wkeRlwW4W_E9LyP6c=/768x0/filters:no_upscale():max_bytes(150000):strip_icc():format(webp)/ClosLuce-76347795crop-57a9ab785f9b58974a15bced.jpg\">    \n",
    "\n"
   ]
  },
  {
   "cell_type": "markdown",
   "id": "5655d812",
   "metadata": {},
   "source": [
    "\n",
    "&nbsp;  \n",
    "<h2 style=\" font-family: times\">4.  Reconstructed facade of Michelangelo’s house on the Passeggiata del Gianicolo, Rome: </h2>  \n",
    " \n",
    "<img style=\"float: left;\"  src=\"https://i0.wp.com/hyperallergic-newspack.s3.amazonaws.com/uploads/2021/08/michel-house-facade-adjusted.jpg?resize=1536%2C1295&quality=100&ssl=1\">  "
   ]
  },
  {
   "cell_type": "markdown",
   "id": "d9be3b9e",
   "metadata": {},
   "source": [
    "\n",
    "&nbsp;  \n",
    "<h2 style=\" font-family: times\">5.  Michelangelo’s Tuscan Villa - The historic façade, original to the home, is fashioned from stone : </h2>  \n",
    " \n",
    "<img style=\"float: left;\"  src=\"https://media.architecturaldigest.com/photos/56d8bee165e378730c1858d7/master/w_1920%2Cc_limit/michelangelo-tuscan-villa-02.jpg\">  "
   ]
  },
  {
   "cell_type": "markdown",
   "id": "8938407b",
   "metadata": {},
   "source": [
    "\n",
    "&nbsp;  \n",
    "<h2 style=\" font-family: times\">6. Mozart Residence in 'Dance Master's House', Makartplatz, Salzburg : </h2>  \n",
    " \n",
    "<img style=\"float: left;\"  src=\"https://www.salzburg.info/deskline/infrastruktur/objekte/mozart-wohnhaus_3859/image-thumb__662758__detail-site-header/Mozart%20Wohnhaus%20am%20Makartplatz_3861.webp\">  "
   ]
  },
  {
   "cell_type": "markdown",
   "id": "d422032e",
   "metadata": {},
   "source": [
    "&nbsp;  \n",
    "<h2 style=\" font-family: times\">7. The Casa-Museu Dalí, Portlligat,  Catalonia, Spain  : </h2>  \n",
    " \n",
    "<img style=\"float: left;\"  src=\"https://media.timeout.com/images/103348085/750/422/image.jpg\">  "
   ]
  },
  {
   "cell_type": "markdown",
   "id": "bc26ffb7",
   "metadata": {},
   "source": [
    "&nbsp;  \n",
    "<h2 style=\" font-family: times\">8. Fondation Claude Monet, Giverny : </h2>  \n",
    " \n",
    "<img style=\"float: left;\"  src=\"https://images.france.fr/zeaejvyq9bhj/2ZPBPFSOsU6GrWkd4vw10d/58579fac47d43a323ff71e9f5ac1265c/1____Fondation_Claude_Monet_Giverny_-_all_rights_reserved.jpeg?w=1120&h=490&q=70&fm=webp&fit=fill\">  "
   ]
  },
  {
   "cell_type": "markdown",
   "id": "e9eef048",
   "metadata": {},
   "source": [
    "&nbsp;  \n",
    "<h2 style=\" font-family: times\">9. The Rembrandt House (Het Rembrandthuis), Amsterdam  : </h2>  \n",
    " \n",
    "<img style=\"float: left;\"  src=\"https://www.amsterdamsights.com/museums/img/rembrandthuis.jpg\">  "
   ]
  },
  {
   "cell_type": "markdown",
   "id": "10343db4",
   "metadata": {},
   "source": [
    "&nbsp;  \n",
    "<h2 style=\" font-family: times\">10. The location of the house in Johannes Vermeer’s painting “The Little Street,” near the main square at Vlamingstraat  : </h2>  \n",
    " \n",
    "<img style=\"float: left;\"  src=\"https://static01.nyt.com/images/2016/07/03/travel/03FOOTSTEPS3/03FOOTSTEPS3-superJumbo.jpg?quality=75&auto=webp\">  "
   ]
  },
  {
   "cell_type": "markdown",
   "id": "31240194",
   "metadata": {},
   "source": [
    "&nbsp;  \n",
    "<h2 style=\" font-family: times\">11. House of Edvard Munch in Åsgardstrand, Norway : </h2>  \n",
    " \n",
    "<img style=\"float: left;\"  src=\"https://i.guim.co.uk/img/media/c20e77ef76f757e88fc91ae06ae65ff86acf2766/67_0_1200_720/master/1200.jpg?width=620&quality=45&fit=max&dpr=2&s=9a210f2be928984539cff29493efc38d\">  "
   ]
  },
  {
   "cell_type": "markdown",
   "id": "9fb5c878",
   "metadata": {},
   "source": [
    "&nbsp;  \n",
    "<h2 style=\" font-family: times\">12.  Gustav Klimt’s Studio, Klimt Villa, Vienna   : </h2>  \n",
    " \n",
    "<img style=\"float: left;\"  src=\"https://www.vienna-unwrapped.com/wp-content/uploads/2016/10/klimt_villa_01-660x330.jpg\">  "
   ]
  },
  {
   "cell_type": "markdown",
   "id": "4f0853af",
   "metadata": {},
   "source": [
    "&nbsp;  \n",
    "<h2 style=\" font-family: times\">13.  Musee Matisse in Villa des Arenes, 17th Century Genoese house, Nice, Cimiez District, Amsterdam  : </h2>  \n",
    " \n",
    "<img style=\"float: left;\"  src=\"https://i0.wp.com/thegoodlifefrance.com/wp-content/uploads/2017/12/matisse-museum-nice.jpg?ssl=1\">  "
   ]
  },
  {
   "cell_type": "markdown",
   "id": "16d83899",
   "metadata": {},
   "source": [
    "&nbsp;  \n",
    "<h2 style=\" font-family: times\">14. The Georgia O’Keeffe Home and Studio in Abiquiu, New Mexico, USA  : </h2>  \n",
    " \n",
    "<img style=\"float: left;\"  src=\"https://i0.wp.com/archeyes.com/wp-content/uploads/2022/03/Georgia-O-Keeffe-Home-and-Studio-ArchEyes-exterior.jpg?resize=800%2C514&ssl=1\">  "
   ]
  },
  {
   "cell_type": "markdown",
   "id": "15c45387",
   "metadata": {},
   "source": [
    "&nbsp;  \n",
    "<h2 style=\" font-family: times\">15. Edward Hopper House Art Center (Birthplace),  Nyack in Rockland County, New York  : </h2>  \n",
    " \n",
    "<img style=\"float: left;\"  src=\"https://upload.wikimedia.org/wikipedia/commons/thumb/e/ea/Edward_Hopper%60s_birthplace_Nyack.JPG/1280px-Edward_Hopper%60s_birthplace_Nyack.JPG\">  "
   ]
  },
  {
   "cell_type": "markdown",
   "id": "84d0fb58",
   "metadata": {},
   "source": [
    "&nbsp;  \n",
    "<h2 style=\" font-family: times\">16.  La Casa Azul, The home of Frida Kahlo, Mexico City   : </h2>  \n",
    " \n",
    "<img style=\"float: left;\"  src=\"https://img.theculturetrip.com/1440x807/smart/wp-content/uploads/2021/05/2at9a3b-e1620745431714.jpg\">  "
   ]
  },
  {
   "cell_type": "markdown",
   "id": "0a748ea1",
   "metadata": {},
   "source": [
    "&nbsp;  \n",
    "<h2 style=\" font-family: times\">17. Lee Krasner and Jackson Pollock’s Hamptons House, Springs, Long Island, New York   : </h2>  \n",
    " \n",
    "<img style=\"float: left;\"  src=\"https://static01.nyt.com/images/2006/07/14/travel/daytrip.2.650.jpg?quality=75&auto=webp&disable=upscale\">  "
   ]
  },
  {
   "cell_type": "markdown",
   "id": "e301bc69",
   "metadata": {},
   "source": [
    "&nbsp;  \n",
    "<h2 style=\" font-family: times\">18. Musée Eugène Delacroix, Paris, France  : </h2>  \n",
    " \n",
    "<img style=\"float: left;\"  src=\"https://cdn.sortiraparis.com/images/1001/62403/639642-le-musee-delacroix-a-paris-au-coeur-de-l-atelier-du-peintre-eugene-delacroix.jpg\">  "
   ]
  },
  {
   "cell_type": "markdown",
   "id": "f77b2749",
   "metadata": {},
   "source": [
    "&nbsp;  \n",
    "<h2 style=\" font-family: times\">19. Edgar Degas Home and Museum, New Orleans , USA : </h2>  \n",
    " \n",
    "<img style=\"float: left;\"  src=\"https://cf.bstatic.com/xdata/images/hotel/max1280x900/164595427.jpg?k=32258a8edec1a7ccd82be0e8c2e6b7aab1b68a52c2ac91d0d10c6a469f2b9fed&o=&hp=1\">  "
   ]
  },
  {
   "cell_type": "markdown",
   "id": "5e92ff93",
   "metadata": {},
   "source": [
    "&nbsp;  \n",
    "<h2 style=\" font-family: times\">20. David Hockney’s house on the West Coast  : </h2>  \n",
    " \n",
    "<img style=\"float: left;\"  src=\"https://phillips.vo.llnwd.net/v1/web_dev/lot-component/167293_FIG_2_0b37d9cc-1744-48c6-a491-f8dd877b8541.png\">  "
   ]
  }
 ],
 "metadata": {
  "kernelspec": {
   "display_name": "Python 3 (ipykernel)",
   "language": "python",
   "name": "python3"
  },
  "language_info": {
   "codemirror_mode": {
    "name": "ipython",
    "version": 3
   },
   "file_extension": ".py",
   "mimetype": "text/x-python",
   "name": "python",
   "nbconvert_exporter": "python",
   "pygments_lexer": "ipython3",
   "version": "3.9.12"
  }
 },
 "nbformat": 4,
 "nbformat_minor": 5
}
